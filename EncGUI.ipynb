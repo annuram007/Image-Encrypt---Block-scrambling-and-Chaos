import tkinter as tk
from tkinter import filedialog
from PIL import Image, ImageTk

# Function to encrypt an image
def encrypt_image(image):
    import numpy as np
    import import_ipynb
    import encrypt_mod1_with_transformation as encrypt1
    import encrypt_mod2_with_transformation as encrypt2
    image_rgb = image.convert("RGB")
    # Split the RGB channels
    r, g, b = image_rgb.split()
    #save the channels
    r.save("red1.png")
    g.save("green1.png")
    b.save("blue1.png")
    submatrices=encrypt1.submatrix(r)
    rotated_array=encrypt1.transformation1()
    m3=encrypt1.divide(submatrices,rotated_array)
    m4=encrypt1.zigzag(m3)
    rotated_matrix=encrypt1.rotated(m4)
    output_matrix=encrypt2.combine(rotated_matrix)
    rotated_permute_array=encrypt2.transformation()
    permuted_matrix_list=encrypt2.permute(output_matrix,rotated_permute_array)
    pixel_vector=encrypt2.pixel_vec(permuted_matrix_list)
    key,mu1,x1=encrypt2.key_generation(r)
    xor_res=encrypt2.xor(key,pixel_vector)
    res_arr=encrypt2.encrypt_image(xor_res)
    image1=Image.fromarray(res_arr)
    image1.save('red_enc.png')
    #green
    submatrices=encrypt1.submatrix(g)
    rotated_array=encrypt1.transformation1()
    m3=encrypt1.divide(submatrices,rotated_array)
    m4=encrypt1.zigzag(m3)
    rotated_matrix=encrypt1.rotated(m4)
    output_matrix=encrypt2.combine(rotated_matrix)
    rotated_permute_array=encrypt2.transformation()
    permuted_matrix_list=encrypt2.permute(output_matrix,rotated_permute_array)
    pixel_vector=encrypt2.pixel_vec(permuted_matrix_list)
    key,mu2,x2=encrypt2.key_generation(g)
    xor_res=encrypt2.xor(key,pixel_vector)
    res_arr=encrypt2.encrypt_image(xor_res)
    image2=Image.fromarray(res_arr)
    image2.save('green_enc.png')
    #blue
    submatrices=encrypt1.submatrix(b)
    rotated_array=encrypt1.transformation1()
    m3=encrypt1.divide(submatrices,rotated_array)
    m4=encrypt1.zigzag(m3)
    rotated_matrix=encrypt1.rotated(m4)
    output_matrix=encrypt2.combine(rotated_matrix)
    rotated_permute_array=encrypt2.transformation()
    permuted_matrix_list=encrypt2.permute(output_matrix,rotated_permute_array)
    pixel_vector=encrypt2.pixel_vec(permuted_matrix_list)
    key,mu3,x3=encrypt2.key_generation(b)
    xor_res=encrypt2.xor(key,pixel_vector)
    res_arr=encrypt2.encrypt_image(xor_res)
    image3=Image.fromarray(res_arr)
    image3.save('blue_enc.png')
    
    combined_image = Image.merge("RGB", (image1,image2,image3))
    # Save the combined image
    combined_image.save("final_enc.png")


    return combined_image

# Function to read image from file
def read_image(filename):
    return Image.open(filename)

# Event handler for "Upload" button in initial window
def browse_image():
    global chosen_filename
    filename = filedialog.askopenfilename()
    if filename:
        chosen_filename = filename
        chosen_filename_label.config(text="Chosen Image: " + filename.split("/")[-1])
        display_image(read_image(filename))

# Event handler for "Encrypt" button
def encrypt_and_display_image():
    global encrypted_image
    if chosen_filename:
        image = read_image(chosen_filename)
        encrypted_image = encrypt_image(image)
        display_image(encrypted_image)

# Event handler for "Send" button
def save_encrypted_image():
    if encrypted_image:
        filename = filedialog.asksaveasfilename(defaultextension=".png")
        if filename:
            encrypted_image.save(filename)

# Function to display an image in the sender window
def display_image(image):
    resized_image = image.resize((300, 300), Image.ANTIALIAS) 
    img = ImageTk.PhotoImage(resized_image)
    image_label = tk.Label(sender_window, image=img)
    image_label.image = img
    image_label.pack()

# Main sender window
sender_window = tk.Tk()
sender_window.title("Sender GUI")

# Set size and position of the window
sender_window.geometry("600x400")

# Add heading
heading_label = tk.Label(sender_window, text="SENDER GUI", font=("Helvetica", 16, "bold"))
heading_label.pack(pady=10)

# Frame for upload button and chosen image name
upload_frame = tk.Frame(sender_window)
upload_frame.pack()

# Upload button
chosen_filename = ""
upload_button = tk.Button(upload_frame, text="Upload", command=browse_image)
upload_button.pack(side=tk.LEFT, padx=10)

# Text box to display chosen image name
chosen_filename_label = tk.Label(upload_frame, text="Chosen Image: " + chosen_filename)
chosen_filename_label.pack(side=tk.LEFT)

# Encrypt button
encrypt_button = tk.Button(sender_window, text="Encrypt", command=encrypt_and_display_image)
encrypt_button.pack(pady=10)

# Save button
save_button = tk.Button(sender_window, text="Send", command=save_encrypted_image)
save_button.pack(pady=10)

sender_window.mainloop()
