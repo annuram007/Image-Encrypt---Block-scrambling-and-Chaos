from PIL import Image
import numpy as np
import import_ipynb
import encrypt_mod1_with_transformation as encrypt1
import encrypt_mod2_with_transformation as encrypt2
# Open the PNG image
image = Image.open("lena1.png")
#image2=Image.open("lena_gray.png")

# Convert the image to RGB mode
image_rgb = image.convert("RGB")

# Split the RGB channels
r, g, b = image_rgb.split()

# Save each channel as separate images (optional)
r.save("red1.png")
g.save("green1.png")
b.save("blue1.png")
print(image.size)
print(r.size)
#red
submatrices=encrypt1.submatrix(r)
rotated_array=encrypt1.transformation1()
m3=encrypt1.divide(submatrices,rotated_array)
m4=encrypt1.zigzag(m3)
rotated_matrix=encrypt1.rotated(m4)
output_matrix=encrypt2.combine(rotated_matrix)
rotated_permute_array=encrypt2.transformation()
permuted_matrix_list=encrypt2.permute(output_matrix,rotated_permute_array)
pixel_vector=encrypt2.pixel_vec(permuted_matrix_list)
pixel_vector=encrypt2.pixel_vec(permuted_matrix_list)
pixel_vector=encrypt2.pixel_vec(permuted_matrix_list)
xor_res=encrypt2.xor(key,pixel_vector)
res_arr=encrypt2.encrypt_image(xor_res)
image1=Image.fromarray(res_arr)
image1.save('red_enc.png')

#green
submatrices=encrypt1.submatrix(g)
rotated_array=encrypt1.transformation1()
m3=encrypt1.divide(submatrices,rotated_array)
m4=encrypt1.zigzag(m3)
rotated_matrix=encrypt1.rotated(m4)
output_matrix=encrypt2.combine(rotated_matrix)
rotated_permute_array=encrypt2.transformation()
permuted_matrix_list=encrypt2.permute(output_matrix,rotated_permute_array)
pixel_vector=encrypt2.pixel_vec(permuted_matrix_list)
key,mu2,x2=encrypt2.key_generation(g)
xor_res=encrypt2.xor(key,pixel_vector)res_arr=encrypt2.encrypt_image(xor_res)
image2=Image.fromarray(res_arr)
image2.save('green_enc.png')

#blue
submatrices=encrypt1.submatrix(b)
rotated_array=encrypt1.transformation1()
m3=encrypt1.divide(submatrices,rotated_array)
m4=encrypt1.zigzag(m3)
rotated_matrix=encrypt1.rotated(m4)
output_matrix=encrypt2.combine(rotated_matrix)
rotated_permute_array=encrypt2.transformation()
permuted_matrix_list=encrypt2.permute(output_matrix,rotated_permute_array)
pixel_vector=encrypt2.pixel_vec(permuted_matrix_list)
key,mu3,x3=encrypt2.key_generation(b)
xor_res=encrypt2.xor(key,pixel_vector)
res_arr=encrypt2.encrypt_image(xor_res)
image3=Image.fromarray(res_arr)
image3.save('blue_enc.png')
image1.show()
image2.show()
image3.show()
combined_image = Image.merge("RGB", (image1,image2,image3))


# Save the combined image
combined_image.save("final_enc.png")
combined_image.show()

print("Images combined successfully!")
