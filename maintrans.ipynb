{
 "cells": [
  {
   "cell_type": "code",
   "execution_count": 1,
   "metadata": {
    "colab": {
     "base_uri": "https://localhost:8080/",
     "height": 384
    },
    "id": "_i0A4xolq6dU",
    "outputId": "8ba34c24-4836-466d-9c4b-c44c7483823b"
   },
   "outputs": [
    {
     "name": "stdout",
     "output_type": "stream",
     "text": [
      "importing Jupyter notebook from encrypt_mod1_with_transformation.ipynb\n",
      "importing Jupyter notebook from encrypt_mod2_with_transformation.ipynb\n",
      "(512, 512)\n",
      "(512, 512)\n"
     ]
    }
   ],
   "source": [
    "from PIL import Image\n",
    "import numpy as np\n",
    "import import_ipynb\n",
    "import encrypt_mod1_with_transformation as encrypt1\n",
    "import encrypt_mod2_with_transformation as encrypt2\n",
    "# Open the PNG image\n",
    "image = Image.open(\"lena1.png\")\n",
    "#image2=Image.open(\"lena_gray.png\")\n",
    "\n",
    "# Convert the image to RGB mode\n",
    "image_rgb = image.convert(\"RGB\")\n",
    "\n",
    "# Split the RGB channels\n",
    "r, g, b = image_rgb.split()\n",
    "\n",
    "# Save each channel as separate images (optional)\n",
    "r.save(\"red1.png\")\n",
    "g.save(\"green1.png\")\n",
    "b.save(\"blue1.png\")\n",
    "print(image.size)\n",
    "print(r.size)"
   ]
  },
  {
   "cell_type": "code",
   "execution_count": 2,
   "metadata": {
    "id": "_ptevrt_t4WS"
   },
   "outputs": [],
   "source": [
    "#red\n",
    "submatrices=encrypt1.submatrix(r)\n",
    "rotated_array=encrypt1.transformation1()\n",
    "m3=encrypt1.divide(submatrices,rotated_array)\n"
   ]
  },
  {
   "cell_type": "code",
   "execution_count": 3,
   "metadata": {},
   "outputs": [],
   "source": [
    "m4=encrypt1.zigzag(m3)"
   ]
  },
  {
   "cell_type": "code",
   "execution_count": 4,
   "metadata": {},
   "outputs": [],
   "source": [
    "rotated_matrix=encrypt1.rotated(m4)"
   ]
  },
  {
   "cell_type": "code",
   "execution_count": 5,
   "metadata": {},
   "outputs": [],
   "source": [
    "output_matrix=encrypt2.combine(rotated_matrix)"
   ]
  },
  {
   "cell_type": "code",
   "execution_count": 6,
   "metadata": {},
   "outputs": [],
   "source": [
    "rotated_permute_array=encrypt2.transformation()\n",
    "permuted_matrix_list=encrypt2.permute(output_matrix,rotated_permute_array)"
   ]
  },
  {
   "cell_type": "code",
   "execution_count": 7,
   "metadata": {},
   "outputs": [],
   "source": [
    "pixel_vector=encrypt2.pixel_vec(permuted_matrix_list)"
   ]
  },
  {
   "cell_type": "code",
   "execution_count": 8,
   "metadata": {},
   "outputs": [
    {
     "name": "stdout",
     "output_type": "stream",
     "text": [
      "x0: 0.7068\n"
     ]
    }
   ],
   "source": [
    "pixel_vector=encrypt2.pixel_vec(permuted_matrix_list)"
   ]
  },
  {
   "cell_type": "code",
   "execution_count": 9,
   "metadata": {},
   "outputs": [],
   "source": [
    "xor_res=encrypt2.xor(key,pixel_vector)"
   ]
  },
  {
   "cell_type": "code",
   "execution_count": 10,
   "metadata": {},
   "outputs": [
    {
     "name": "stdout",
     "output_type": "stream",
     "text": [
      "[[22 79 65 ... 254 139 80]\n",
      " [188 193 216 ... 229 56 56]\n",
      " [0 117 62 ... 54 171 92]\n",
      " ...\n",
      " [133 121 237 ... 182 33 229]\n",
      " [129 80 176 ... 27 121 69]\n",
      " [248 165 183 ... 147 114 143]]\n",
      "512\n"
     ]
    }
   ],
   "source": [
    "res_arr=encrypt2.encrypt_image(xor_res)\n",
    "image1=Image.fromarray(res_arr)\n",
    "image1.save('red_enc.png')\n"
   ]
  },
  {
   "cell_type": "code",
   "execution_count": 11,
   "metadata": {},
   "outputs": [],
   "source": [
    "#green\n",
    "submatrices=encrypt1.submatrix(g)\n",
    "rotated_array=encrypt1.transformation1()\n",
    "m3=encrypt1.divide(submatrices,rotated_array)"
   ]
  },
  {
   "cell_type": "code",
   "execution_count": 12,
   "metadata": {},
   "outputs": [],
   "source": [
    "m4=encrypt1.zigzag(m3)"
   ]
  },
  {
   "cell_type": "code",
   "execution_count": 13,
   "metadata": {},
   "outputs": [],
   "source": [
    "rotated_matrix=encrypt1.rotated(m4)"
   ]
  },
  {
   "cell_type": "code",
   "execution_count": 14,
   "metadata": {},
   "outputs": [],
   "source": [
    "output_matrix=encrypt2.combine(rotated_matrix)"
   ]
  },
  {
   "cell_type": "code",
   "execution_count": 15,
   "metadata": {},
   "outputs": [],
   "source": [
    "rotated_permute_array=encrypt2.transformation()\n",
    "permuted_matrix_list=encrypt2.permute(output_matrix,rotated_permute_array)"
   ]
  },
  {
   "cell_type": "code",
   "execution_count": 16,
   "metadata": {},
   "outputs": [],
   "source": [
    "pixel_vector=encrypt2.pixel_vec(permuted_matrix_list)"
   ]
  },
  {
   "cell_type": "code",
   "execution_count": 17,
   "metadata": {},
   "outputs": [
    {
     "name": "stdout",
     "output_type": "stream",
     "text": [
      "x0: 0.3884\n"
     ]
    }
   ],
   "source": [
    "key,mu2,x2=encrypt2.key_generation(g)\n"
   ]
  },
  {
   "cell_type": "code",
   "execution_count": 18,
   "metadata": {},
   "outputs": [],
   "source": [
    "xor_res=encrypt2.xor(key,pixel_vector)"
   ]
  },
  {
   "cell_type": "code",
   "execution_count": 19,
   "metadata": {},
   "outputs": [
    {
     "name": "stdout",
     "output_type": "stream",
     "text": [
      "[[230 107 147 ... 171 33 180]\n",
      " [89 141 93 ... 31 224 16]\n",
      " [36 179 102 ... 82 92 210]\n",
      " ...\n",
      " [221 105 248 ... 42 11 176]\n",
      " [11 237 23 ... 220 112 193]\n",
      " [58 200 36 ... 207 51 242]]\n",
      "512\n"
     ]
    }
   ],
   "source": [
    "res_arr=encrypt2.encrypt_image(xor_res)\n",
    "image2=Image.fromarray(res_arr)\n",
    "image2.save('green_enc.png')\n"
   ]
  },
  {
   "cell_type": "code",
   "execution_count": 20,
   "metadata": {},
   "outputs": [],
   "source": [
    "#blue\n",
    "submatrices=encrypt1.submatrix(b)\n",
    "rotated_array=encrypt1.transformation1()\n",
    "m3=encrypt1.divide(submatrices,rotated_array)"
   ]
  },
  {
   "cell_type": "code",
   "execution_count": 21,
   "metadata": {},
   "outputs": [],
   "source": [
    "m4=encrypt1.zigzag(m3)"
   ]
  },
  {
   "cell_type": "code",
   "execution_count": 22,
   "metadata": {},
   "outputs": [],
   "source": [
    "rotated_matrix=encrypt1.rotated(m4)"
   ]
  },
  {
   "cell_type": "code",
   "execution_count": 23,
   "metadata": {},
   "outputs": [],
   "source": [
    "output_matrix=encrypt2.combine(rotated_matrix)"
   ]
  },
  {
   "cell_type": "code",
   "execution_count": 24,
   "metadata": {},
   "outputs": [],
   "source": [
    "rotated_permute_array=encrypt2.transformation()\n",
    "permuted_matrix_list=encrypt2.permute(output_matrix,rotated_permute_array)"
   ]
  },
  {
   "cell_type": "code",
   "execution_count": 25,
   "metadata": {},
   "outputs": [],
   "source": [
    "pixel_vector=encrypt2.pixel_vec(permuted_matrix_list)"
   ]
  },
  {
   "cell_type": "code",
   "execution_count": 26,
   "metadata": {},
   "outputs": [
    {
     "name": "stdout",
     "output_type": "stream",
     "text": [
      "x0: 0.4134\n"
     ]
    }
   ],
   "source": [
    "key,mu3,x3=encrypt2.key_generation(b)\n"
   ]
  },
  {
   "cell_type": "code",
   "execution_count": 27,
   "metadata": {},
   "outputs": [],
   "source": [
    "xor_res=encrypt2.xor(key,pixel_vector)"
   ]
  },
  {
   "cell_type": "code",
   "execution_count": 28,
   "metadata": {},
   "outputs": [
    {
     "name": "stdout",
     "output_type": "stream",
     "text": [
      "[[155 242 100 ... 28 79 69]\n",
      " [168 31 107 ... 228 75 124]\n",
      " [98 5 93 ... 3 209 199]\n",
      " ...\n",
      " [31 45 93 ... 85 34 94]\n",
      " [9 203 82 ... 80 212 82]\n",
      " [241 246 99 ... 143 89 163]]\n",
      "512\n"
     ]
    }
   ],
   "source": [
    "res_arr=encrypt2.encrypt_image(xor_res)\n",
    "image3=Image.fromarray(res_arr)\n",
    "image3.save('blue_enc.png')\n"
   ]
  },
  {
   "cell_type": "code",
   "execution_count": 29,
   "metadata": {},
   "outputs": [
    {
     "name": "stdout",
     "output_type": "stream",
     "text": [
      "Images combined successfully!\n"
     ]
    }
   ],
   "source": [
    "image1.show()\n",
    "image2.show()\n",
    "image3.show()\n",
    "combined_image = Image.merge(\"RGB\", (image1,image2,image3))\n",
    "\n",
    "\n",
    "# Save the combined image\n",
    "combined_image.save(\"final_enc.png\")\n",
    "combined_image.show()\n",
    "\n",
    "print(\"Images combined successfully!\")"
   ]
  }
 ],
 "metadata": {
  "colab": {
   "provenance": []
  },
  "kernelspec": {
   "display_name": "Python 3 (ipykernel)",
   "language": "python",
   "name": "python3"
  },
  "language_info": {
   "codemirror_mode": {
    "name": "ipython",
    "version": 3
   },
   "file_extension": ".py",
   "mimetype": "text/x-python",
   "name": "python",
   "nbconvert_exporter": "python",
   "pygments_lexer": "ipython3",
   "version": "3.11.3"
  }
 },
 "nbformat": 4,
 "nbformat_minor": 1
}
