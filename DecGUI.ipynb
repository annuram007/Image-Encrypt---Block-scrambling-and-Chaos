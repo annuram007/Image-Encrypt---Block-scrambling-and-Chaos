import tkinter as tk
from tkinter import filedialog
from PIL import Image, ImageTk

# Function to decrypt an image
def decrypt_image(image):
    import numpy as np
    import import_ipynb
    import dectrans as decrypt
    
    r=Image.open('red1.png')
    r=np.array(r)
    g=Image.open('green1.png')
    g=np.array(g)
    b=Image.open('blue1.png')
    b=np.array(b)
    
    image = Image.open('red_enc.png')
    res_arr = np.array(image)
    result1=decrypt.reshape(res_arr)
    mu1=3.6239
    s=decrypt.chaotic(mu1,r)
    key=decrypt.key_gen(s)
    arr2=decrypt.pixel_vec(key,result1)
    output_matrix=decrypt.permutation(arr2)
    rotate_array=decrypt.pos()
    divided_matrix=decrypt.divide(output_matrix,rotate_array)
    rotated_matrix=decrypt.rotate_matrix(divided_matrix)
    m6=decrypt.scramble(rotated_matrix)
    combined_matrix=decrypt.combine(m6,output_matrix)
    red=decrypt.decryption(combined_matrix)
    red.save("red_dec.png")
    
    image = Image.open('green_enc.png')
    res_arr = np.array(image)
    result1=decrypt.reshape(res_arr)
    mu2=3.6239
    s=decrypt.chaotic(mu2,g)
    key=decrypt.key_gen(s)
    arr2=decrypt.pixel_vec(key,result1)
    output_matrix=decrypt.permutation(arr2)
    rotate_array=decrypt.pos()
    divided_matrix=decrypt.divide(output_matrix,rotate_array)
    rotated_matrix=decrypt.rotate_matrix(divided_matrix)
    m6=decrypt.scramble(rotated_matrix)
    combined_matrix=decrypt.combine(m6,output_matrix)
    green=decrypt.decryption(combined_matrix)
    green.save("green_dec.png")
    
    image = Image.open('blue_enc.png')
    res_arr = np.array(image)
    result1=decrypt.reshape(res_arr)
    mu3=3.6239
    s=decrypt.chaotic(mu3,b)
    key=decrypt.key_gen(s)
    arr2=decrypt.pixel_vec(key,result1)
    output_matrix=decrypt.permutation(arr2)
    rotate_array=decrypt.pos()
    divided_matrix=decrypt.divide(output_matrix,rotate_array)
    rotated_matrix=decrypt.rotate_matrix(divided_matrix)
    m6=decrypt.scramble(rotated_matrix)
    combined_matrix=decrypt.combine(m6,output_matrix)
    blue=decrypt.decryption(combined_matrix)
    blue.save("blue_dec.png")
    
    combined_image = Image.merge("RGB", (red,green,blue))
    # Save the combined image
    combined_image.save("final_dec.png")
    
    return combined_image

# Function to read image from file
def read_image(filename):
    return Image.open(filename)

# Event handler for "Upload" button in receiver window
def browse_image():
    global chosen_filename
    filename = filedialog.askopenfilename()
    if filename:
        chosen_filename = filename
        chosen_filename_label.config(text="Chosen Image: " + filename.split("/")[-1])
        display_image(read_image(filename))

# Event handler for "Decrypt" button
def decrypt_and_display_image():
    global decrypted_image
    if chosen_filename:
        image = read_image(chosen_filename)
        decrypted_image = decrypt_image(image)
        display_image(decrypted_image)

# Function to display an image in the receiver window
def display_image(image):
    resized_image = image.resize((300, 300), Image.ANTIALIAS) 
    img = ImageTk.PhotoImage(resized_image)
    image_label = tk.Label(receiver_window, image=img)
    image_label.image = img
    image_label.pack()

# Main receiver window
receiver_window = tk.Tk()
receiver_window.title("Receiver GUI")

# Set size and position of the window
receiver_window.geometry("600x400")

# Add heading
heading_label = tk.Label(receiver_window, text="RECEIVER GUI", font=("Helvetica", 16, "bold"))
heading_label.pack(pady=10)

# Frame for upload button and chosen image name
upload_frame = tk.Frame(receiver_window)
upload_frame.pack()

# Upload button
chosen_filename = ""
upload_button = tk.Button(upload_frame, text="Upload", command=browse_image)
upload_button.pack(side=tk.LEFT, padx=10)

# Text box to display chosen image name
chosen_filename_label = tk.Label(upload_frame, text="Chosen Image: " + chosen_filename)
chosen_filename_label.pack(side=tk.LEFT)

# Decrypt button
decrypt_button = tk.Button(receiver_window, text="Decrypt", command=decrypt_and_display_image)
decrypt_button.pack(pady=10)

receiver_window.mainloop()
