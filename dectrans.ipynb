from PIL import Image
import numpy as np
  def reshape(res_arr):
    matrix_2d = res_arr.reshape(512, 512)
    result1 = matrix_2d.flatten()
    #print(result1)
    return result1
      def chaotic(mu,matrix):
    n0=7000
    
    s=[]
    x0=0
    for i in range(512):
        for j in range(512):
            x0=x0+matrix[i][j]
    x0=x0/(512*512*255)
    x0=round(x0,4)
    
    for i in range(n0+(512*512)):
        X =round(mu*x0*(1-x0),4)
        #print("X:",X)
        x0 =X
        s.append(X)
    s=s[n0:]
    #print(s)
    #print(len(s))
    return s

      #key generation
def key_gen(s):
    from sympy import Integer
    import math
    k=[]
    for i in range(0,len(s)):
        #print(math.floor(s[i]*1046))
        result = (math.floor(Integer(s[i]*10**4)) % 256)
        k.append(result)
    #print("key:",k)
    #print(len(k))
    return k
      def pixel_vec(k,result1):
    pixel_vector= []

# Perform XOR operation to get back the result
    for i in range(len(k)):
        ans = result1[i] ^ k[i]
        pixel_vector.append(ans)

# Now you have the result list
    #print(pixel_vector)
    arr2 = np.array(pixel_vector).reshape(1024,16,16)
    #print(arr2)
    return arr2
      def fill_list():
    permute_matrix = [[0]*32 for _ in range(32)]

# Fill the matrix with sequential numbers from 1 to 1024
    current_number = 1
    for i in range(32):
        for j in range(32):
            permute_matrix[i][j] = current_number
            current_number += 1
    return permute_matrix

def spiral_access(matrix):
    if not matrix:
        return []

    rows = len(matrix)
    cols = len(matrix[0])

    top = 0
    bottom = rows - 1
    left = 0
    right = cols - 1

    result = []

    while top <= bottom and left <= right:
        # Traverse top row
        for i in range(left, right + 1):
            result.append(matrix[top][i])
        top += 1

        # Traverse right column
        for i in range(top, bottom + 1):
            result.append(matrix[i][right])
        right -= 1

        # Traverse bottom row
        if top <= bottom:
            for i in range(right, left - 1, -1):
                result.append(matrix[bottom][i])
            bottom -= 1

        # Traverse left column
        if left <= right:
            for i in range(bottom, top - 1, -1):
                result.append(matrix[i][left])
            left += 1

    return result

'''def rotate_anticlockwise(arr):
    arr1=np.array(arr)
    rotated_arr=np.rot90(arr1)
    return rotated_arr'''

def permutation(arr2):
    permuted_matrix_list = arr2.tolist()
    #print(permuted_matrix_list)
    #return permuted_matrix_list
    permute_matrix=fill_list()
    result1 = spiral_access(permute_matrix)
    result1=np.array(result1)
    result1=result1.reshape(32,32)
    result1=np.rot90(result1,k=-1)
    result1=result1.flatten()
    #print(result)
    #rotated_permute_array = rotate_anticlockwise(result1)
    #print(len(rotated_permute_array))
    #print("Rotated array:", rotated_permute_array)
    #print (rotated_permute_array)

    reconstructed_matrix = [None] * len(result1)
    for index, value in zip(result1, permuted_matrix_list):
        reconstructed_matrix[index - 1] = value
    output_matrix=np.array(reconstructed_matrix)
    #print(output_matrix)
    #print(len(output_matrix))
    return output_matrix
      def fill_list1():
    matrix1 = [[0]*32 for _ in range(32)]

# Fill the matrix with sequential numbers from 1 to 1024
    matrix1 = [[0]*32 for _ in range(32)]
    sequence = [4, 8, 16]
    index = 0
    for i in range(32):
        for j in range(32):
            matrix1[i][j] = sequence[index % 3]
            index += 1
    return matrix1

def spiral_access(matrix):
    if not matrix:
        return []

    rows = len(matrix)
    cols = len(matrix[0])

    top = 0
    bottom = rows - 1
    left = 0
    right = cols - 1

    result = []

    while top <= bottom and left <= right:
        # Traverse top row
        for i in range(left, right + 1):
            result.append(matrix[top][i])
        top += 1

        # Traverse right column
        for i in range(top, bottom + 1):
            result.append(matrix[i][right])
        right -= 1

        # Traverse bottom row
        if top <= bottom:
            for i in range(right, left - 1, -1):
                result.append(matrix[bottom][i])
            bottom -= 1

        # Traverse left column
        if left <= right:
            for i in range(bottom, top - 1, -1):
                result.append(matrix[i][left])
            left += 1

    return result

'''def rotate_anticlockwise(arr):
    arr1=np.array(arr)
    rotated_arr=np.rot90(arr1)
   
    return rotated_arr'''




def pos():
    matrix1=fill_list1()
    result12 = spiral_access(matrix1)
    result12=np.array(result12)
    result12=result12.reshape(32,32)
    result12=np.rot90(result12,k=-1)
    result12=result12.flatten()
    
    #print(result)
    #rotated_permute_array1 = rotate_anticlockwise(result12)
    #print("Rotated array:", rotated_permute_array)
    #print (rotated_permute_array1)
    return result12
      import numpy as np

# Function to divide a submatrix into blocks based on squared random numbers
def divide_into_blocks(bigger_matrix, rotated_permute_array):
    divided_matrix = []
    for i in range(len(bigger_matrix)):
        submatrix = bigger_matrix[i]
        block_size = rotated_permute_array[i]
        num_blocks = 16 // block_size
        blocks = []
        for row_block in np.array_split(submatrix, num_blocks):
            for block in np.array_split(row_block, num_blocks, axis=1):
                divided_matrix.append(block)
    return divided_matrix


# Divide each submatrix into blocks based on squared random numbers
def divide(output_matrix, rotated_permute_array1):
    divided_matrix = divide_into_blocks(output_matrix, rotated_permute_array1)
    #print(divided_matrix)
    #print(len(divided_matrix))
    return divided_matrix
      # Function to rotate a matrix by 90 degrees clockwise
def rotate(matrix):
    return np.rot90(matrix,k=-1)
def rotate_matrices(matrix):
    rotated_matrix = []
    for i in range(len(matrix)):
            rotated_matrix.append(rotate(matrix[i]))
    return rotated_matrix
def rotate_matrix(divided_matrix):
    rotated_matrix = rotate_matrices(divided_matrix)
    #print(rotated_matrix)
    #print(len(rotated_matrix))
    return rotated_matrix
      def reverse_zigzag_scramble(scrambled_list, m, n):
    matrix = [[0] * n for _ in range(m)]
    idx = 0

    for i in range(m + n - 1):
        if i % 2 == 0:
            row = min(i, m - 1)
            col = i - row
            while row >= 0 and col < n:
                matrix[row][col] = scrambled_list[idx]
                idx += 1
                row -= 1
                col += 1
        else:
            col = min(i, n - 1)
            row = i - col
            while col >= 0 and row < m:
                matrix[row][col] = scrambled_list[idx]
                idx += 1
                row += 1
                col -= 1

    return matrix

def reverse_reshape_matrix_columnwise(matrix, m, n):
    return [matrix[row][col] for col in range(n) for row in range(m)]

def scramble(rotated_matrix):
    m5 = []
    for scrambled_matrix in rotated_matrix:
        m, n = len(scrambled_matrix), len(scrambled_matrix[0])
        scrambled_list = reverse_reshape_matrix_columnwise(scrambled_matrix, m, n)
        original_matrix = reverse_zigzag_scramble(scrambled_list, m, n)
        m5.append(original_matrix)

    #print(m5)
    #print(len(m5))
    m6=[]
    for i in range(len(m5)):
        val=np.array(m5[i])
        m6.append(val)
    #print(m6)
    #print(len(m6))
    return m6
      import numpy as np

# Function to combine smaller matrices into one larger matrix
def combine_to_larger_matrix(input_matrix):
    larger_matrix = []
    i = 0
    while i < len(input_matrix):
        if len(input_matrix[i]) == 16:
            # Append 16x16 matrix as is
            larger_matrix.append(input_matrix[i])
            i += 1
        elif len(input_matrix[i]) == 8:
            combined_matrix = np.block([[input_matrix[i],input_matrix[i+1]],[input_matrix[i+2],input_matrix[i+3]]])
            larger_matrix.append(combined_matrix)
            i+=4
        elif len(input_matrix[i]) == 4:
            combined_matrix = np.block([[input_matrix[i],input_matrix[i+1],input_matrix[i+2],input_matrix[i+3]],
                                       [input_matrix[i+4],input_matrix[i+5],input_matrix[i+6],input_matrix[i+7]],
                                       [input_matrix[i+8],input_matrix[i+9],input_matrix[i+10],input_matrix[i+11]],
                                       [input_matrix[i+12],input_matrix[i+13],input_matrix[i+14],input_matrix[i+15]]])
            larger_matrix.append(combined_matrix)
            i+=16
    return larger_matrix

# Example input matrix containing 4x4, 8x8, and 16x16 matrices


# Combine smaller matrices into larger matrices
def combine(m6,output_matrix):
    output_matrix1 = combine_to_larger_matrix(m6)

    # Print the resulting larger matrix
    #print(output_matrix1)
    #print(len(output_matrix1))
    # Assuming you have a list of 1024 submatrices stored in some way, let's call it submatrices_list
# Each submatrix is a 16x16 NumPy array

# Create a placeholder for the final combined matrix
    combined_matrix = np.zeros((512, 512))

# Iterate over each submatrix and place its values into the appropriate position in the combined matrix
    for i in range(32):  # 32 submatrices per row/column
        for j in range(32):
            submatrix = output_matrix1[i * 32 + j]  # Assuming submatrices are stored in row-major order
            combined_matrix[i*16:(i+1)*16, j*16:(j+1)*16] = submatrix
    #print(combined_matrix)
    return combined_matrix

# Now combined_matrix contains all the values from the submatrices arranged in a 512x512 matrix

    def decryption(combined_matrix):
    out_mat=combined_matrix.reshape(512,512)
    #print(out_mat)
    #print("After array")
    out_mat1=np.array(out_mat)
    #print(out_mat1)
    matrix2d2=np.array(out_mat1,dtype=np.uint8)
    image5=Image.fromarray(matrix2d2)
    return image5
